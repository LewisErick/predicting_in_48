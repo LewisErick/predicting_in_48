{
  "nbformat": 4,
  "nbformat_minor": 0,
  "metadata": {
    "colab": {
      "name": "Predicting in 48 Hours or Less.ipynb",
      "provenance": []
    },
    "kernelspec": {
      "name": "python3",
      "display_name": "Python 3"
    }
  },
  "cells": [
    {
      "cell_type": "markdown",
      "metadata": {
        "id": "t1j8nUT0iue1",
        "colab_type": "text"
      },
      "source": [
        "# Predicting in 48 Hours or Less"
      ]
    },
    {
      "cell_type": "code",
      "metadata": {
        "id": "vVyw7nGmwFOg",
        "colab_type": "code",
        "colab": {}
      },
      "source": [
        "from urllib.request import urlopen\n",
        "from bs4 import BeautifulSoup\n",
        "\n",
        "import numpy as np"
      ],
      "execution_count": 0,
      "outputs": []
    },
    {
      "cell_type": "markdown",
      "metadata": {
        "id": "cUjayqkgiojk",
        "colab_type": "text"
      },
      "source": [
        "## Data Mining and Extraction"
      ]
    },
    {
      "cell_type": "code",
      "metadata": {
        "id": "v_gnwh51wexU",
        "colab_type": "code",
        "colab": {}
      },
      "source": [
        "url = 'https://en.wikipedia.org/wiki/Toilet_paper'\n",
        "html = urlopen(url)"
      ],
      "execution_count": 0,
      "outputs": []
    },
    {
      "cell_type": "code",
      "metadata": {
        "id": "uRwCoQV1x431",
        "colab_type": "code",
        "outputId": "b6f00b1d-7074-426f-a496-5c56b24da292",
        "colab": {
          "base_uri": "https://localhost:8080/",
          "height": 34
        }
      },
      "source": [
        "soup = BeautifulSoup(html, 'lxml')\n",
        "type(soup)"
      ],
      "execution_count": 3,
      "outputs": [
        {
          "output_type": "execute_result",
          "data": {
            "text/plain": [
              "bs4.BeautifulSoup"
            ]
          },
          "metadata": {
            "tags": []
          },
          "execution_count": 3
        }
      ]
    },
    {
      "cell_type": "code",
      "metadata": {
        "id": "NKNfc3zeyBjx",
        "colab_type": "code",
        "colab": {}
      },
      "source": [
        "paragraphs = str(soup.find_all('p'))\n",
        "cleantext = BeautifulSoup(paragraphs, \"lxml\").get_text()"
      ],
      "execution_count": 0,
      "outputs": []
    },
    {
      "cell_type": "code",
      "metadata": {
        "id": "zKu5uGSBzPpZ",
        "colab_type": "code",
        "outputId": "b71f08e9-3ad9-49d0-a10d-edbfa9c50ef5",
        "colab": {
          "base_uri": "https://localhost:8080/",
          "height": 85
        }
      },
      "source": [
        "import nltk\n",
        "nltk.download('punkt')\n",
        "nltk.download('stopwords')\n",
        "from nltk.corpus import stopwords\n",
        "stp = set(stopwords.words('english'))\n",
        "for s in ['a', 'an', 'the']: stp.add(s)"
      ],
      "execution_count": 5,
      "outputs": [
        {
          "output_type": "stream",
          "text": [
            "[nltk_data] Downloading package punkt to /root/nltk_data...\n",
            "[nltk_data]   Package punkt is already up-to-date!\n",
            "[nltk_data] Downloading package stopwords to /root/nltk_data...\n",
            "[nltk_data]   Package stopwords is already up-to-date!\n"
          ],
          "name": "stdout"
        }
      ]
    },
    {
      "cell_type": "code",
      "metadata": {
        "id": "1oWfaBDfzfDd",
        "colab_type": "code",
        "colab": {}
      },
      "source": [
        "tokens = nltk.word_tokenize(cleantext)\n",
        "tokens_no_punkt = [tok.lower() for tok in tokens if tok.isalpha() and tok.lower() not in stp]"
      ],
      "execution_count": 0,
      "outputs": []
    },
    {
      "cell_type": "code",
      "metadata": {
        "id": "KgbXlVZpzwqr",
        "colab_type": "code",
        "outputId": "504197ae-3570-4782-d6ae-2e82282154fc",
        "colab": {
          "base_uri": "https://localhost:8080/",
          "height": 34
        }
      },
      "source": [
        "len(tokens_no_punkt)"
      ],
      "execution_count": 7,
      "outputs": [
        {
          "output_type": "execute_result",
          "data": {
            "text/plain": [
              "1398"
            ]
          },
          "metadata": {
            "tags": []
          },
          "execution_count": 7
        }
      ]
    },
    {
      "cell_type": "code",
      "metadata": {
        "id": "ZtFrm4kyz6K8",
        "colab_type": "code",
        "colab": {}
      },
      "source": [
        "import numpy as np"
      ],
      "execution_count": 0,
      "outputs": []
    },
    {
      "cell_type": "code",
      "metadata": {
        "id": "YOoSffsNz8pC",
        "colab_type": "code",
        "colab": {}
      },
      "source": [
        "token_freq = dict([(tok, tokens_no_punkt.count(tok)) for tok in set(tokens_no_punkt)])"
      ],
      "execution_count": 0,
      "outputs": []
    },
    {
      "cell_type": "code",
      "metadata": {
        "id": "9kTAfjTp138T",
        "colab_type": "code",
        "outputId": "0ba692b3-daa4-4c2a-af3e-221977f86645",
        "colab": {
          "base_uri": "https://localhost:8080/",
          "height": 34
        }
      },
      "source": [
        "np.quantile(np.array(list(token_freq.values())), 0.25)"
      ],
      "execution_count": 10,
      "outputs": [
        {
          "output_type": "execute_result",
          "data": {
            "text/plain": [
              "1.0"
            ]
          },
          "metadata": {
            "tags": []
          },
          "execution_count": 10
        }
      ]
    },
    {
      "cell_type": "code",
      "metadata": {
        "id": "d8nOSPUH2ozj",
        "colab_type": "code",
        "outputId": "74b82999-a3d2-4a6e-a618-c3991ce0ff88",
        "colab": {
          "base_uri": "https://localhost:8080/",
          "height": 34
        }
      },
      "source": [
        "np.quantile(np.array(list(token_freq.values())), 0.95)"
      ],
      "execution_count": 11,
      "outputs": [
        {
          "output_type": "execute_result",
          "data": {
            "text/plain": [
              "3.0"
            ]
          },
          "metadata": {
            "tags": []
          },
          "execution_count": 11
        }
      ]
    },
    {
      "cell_type": "code",
      "metadata": {
        "id": "NroGSDEk4R1d",
        "colab_type": "code",
        "colab": {}
      },
      "source": [
        "q_token_freq = dict([(k, int(np.log(v)) * 5 ** 2) for k, v in token_freq.items() if v > 2])"
      ],
      "execution_count": 0,
      "outputs": []
    },
    {
      "cell_type": "code",
      "metadata": {
        "id": "H7LM5TRe4l19",
        "colab_type": "code",
        "colab": {
          "base_uri": "https://localhost:8080/",
          "height": 34
        },
        "outputId": "4b962755-3444-4004-bd02-675a79f6d23e"
      },
      "source": [
        "for k,v in q_token_freq.items():\n",
        "  print('{word: \\'%s\\', size:\\'%s\\'},' % (str(k), str(v)))\n",
        "  break"
      ],
      "execution_count": 13,
      "outputs": [
        {
          "output_type": "stream",
          "text": [
            "{word: 'light', size:'25'},\n"
          ],
          "name": "stdout"
        }
      ]
    },
    {
      "cell_type": "markdown",
      "metadata": {
        "id": "oiLVK2tUi70v",
        "colab_type": "text"
      },
      "source": [
        "## Exploración y Visualización de Datos"
      ]
    },
    {
      "cell_type": "code",
      "metadata": {
        "id": "DykBBaIEjebA",
        "colab_type": "code",
        "outputId": "488c593d-1d68-4248-8d7b-99033e7a01fc",
        "colab": {
          "base_uri": "https://localhost:8080/",
          "height": 119
        }
      },
      "source": [
        "!rm -rf predicting_in_48 \n",
        "!git clone https://github.com/LewisErick/predicting_in_48.git"
      ],
      "execution_count": 15,
      "outputs": [
        {
          "output_type": "stream",
          "text": [
            "Cloning into 'predicting_in_48'...\n",
            "remote: Enumerating objects: 15, done.\u001b[K\n",
            "remote: Counting objects:   6% (1/15)\u001b[K\rremote: Counting objects:  13% (2/15)\u001b[K\rremote: Counting objects:  20% (3/15)\u001b[K\rremote: Counting objects:  26% (4/15)\u001b[K\rremote: Counting objects:  33% (5/15)\u001b[K\rremote: Counting objects:  40% (6/15)\u001b[K\rremote: Counting objects:  46% (7/15)\u001b[K\rremote: Counting objects:  53% (8/15)\u001b[K\rremote: Counting objects:  60% (9/15)\u001b[K\rremote: Counting objects:  66% (10/15)\u001b[K\rremote: Counting objects:  73% (11/15)\u001b[K\rremote: Counting objects:  80% (12/15)\u001b[K\rremote: Counting objects:  86% (13/15)\u001b[K\rremote: Counting objects:  93% (14/15)\u001b[K\rremote: Counting objects: 100% (15/15)\u001b[K\rremote: Counting objects: 100% (15/15), done.\u001b[K\n",
            "remote: Compressing objects:   8% (1/12)\u001b[K\rremote: Compressing objects:  16% (2/12)\u001b[K\rremote: Compressing objects:  25% (3/12)\u001b[K\rremote: Compressing objects:  33% (4/12)\u001b[K\rremote: Compressing objects:  41% (5/12)\u001b[K\rremote: Compressing objects:  50% (6/12)\u001b[K\rremote: Compressing objects:  58% (7/12)\u001b[K\rremote: Compressing objects:  66% (8/12)\u001b[K\rremote: Compressing objects:  75% (9/12)\u001b[K\rremote: Compressing objects:  83% (10/12)\u001b[K\rremote: Compressing objects:  91% (11/12)\u001b[K\rremote: Compressing objects: 100% (12/12)\u001b[K\rremote: Compressing objects: 100% (12/12), done.\u001b[K\n",
            "Unpacking objects:   6% (1/15)   \rUnpacking objects:  13% (2/15)   \rUnpacking objects:  20% (3/15)   \rUnpacking objects:  26% (4/15)   \rUnpacking objects:  33% (5/15)   \rUnpacking objects:  40% (6/15)   \rUnpacking objects:  46% (7/15)   \rUnpacking objects:  53% (8/15)   \rUnpacking objects:  60% (9/15)   \rremote: Total 15 (delta 5), reused 10 (delta 3), pack-reused 0\u001b[K\n",
            "Unpacking objects:  66% (10/15)   \rUnpacking objects:  73% (11/15)   \rUnpacking objects:  80% (12/15)   \rUnpacking objects:  86% (13/15)   \rUnpacking objects:  93% (14/15)   \rUnpacking objects: 100% (15/15)   \rUnpacking objects: 100% (15/15), done.\n"
          ],
          "name": "stdout"
        }
      ]
    },
    {
      "cell_type": "code",
      "metadata": {
        "id": "O1ix5Jj0cHfL",
        "colab_type": "code",
        "colab": {}
      },
      "source": [
        "import pandas as pd"
      ],
      "execution_count": 0,
      "outputs": []
    },
    {
      "cell_type": "code",
      "metadata": {
        "id": "-55Gn19vcJ1-",
        "colab_type": "code",
        "colab": {}
      },
      "source": [
        "raw_df = pd.read_csv('predicting_in_48/raw_data.csv', index_col=0)"
      ],
      "execution_count": 0,
      "outputs": []
    },
    {
      "cell_type": "code",
      "metadata": {
        "id": "Eq9XF-vbdo2c",
        "colab_type": "code",
        "outputId": "fb2873f9-94ce-4b18-d6c1-70257994ab9c",
        "colab": {
          "base_uri": "https://localhost:8080/",
          "height": 224
        }
      },
      "source": [
        "raw_df.head()"
      ],
      "execution_count": 18,
      "outputs": [
        {
          "output_type": "execute_result",
          "data": {
            "text/html": [
              "<div>\n",
              "<style scoped>\n",
              "    .dataframe tbody tr th:only-of-type {\n",
              "        vertical-align: middle;\n",
              "    }\n",
              "\n",
              "    .dataframe tbody tr th {\n",
              "        vertical-align: top;\n",
              "    }\n",
              "\n",
              "    .dataframe thead th {\n",
              "        text-align: right;\n",
              "    }\n",
              "</style>\n",
              "<table border=\"1\" class=\"dataframe\">\n",
              "  <thead>\n",
              "    <tr style=\"text-align: right;\">\n",
              "      <th></th>\n",
              "      <th>quarantine_day</th>\n",
              "      <th>infected</th>\n",
              "      <th>deceased</th>\n",
              "      <th>news_freq</th>\n",
              "      <th>grocery_store_1</th>\n",
              "      <th>grocery_store_2</th>\n",
              "      <th>grocery_store_3</th>\n",
              "      <th>avg_cars_per_day</th>\n",
              "    </tr>\n",
              "  </thead>\n",
              "  <tbody>\n",
              "    <tr>\n",
              "      <th>0</th>\n",
              "      <td>0</td>\n",
              "      <td>6</td>\n",
              "      <td>0</td>\n",
              "      <td>0</td>\n",
              "      <td>5000</td>\n",
              "      <td>500</td>\n",
              "      <td>5000</td>\n",
              "      <td>24597</td>\n",
              "    </tr>\n",
              "    <tr>\n",
              "      <th>1</th>\n",
              "      <td>1</td>\n",
              "      <td>7</td>\n",
              "      <td>0</td>\n",
              "      <td>0</td>\n",
              "      <td>4936</td>\n",
              "      <td>493</td>\n",
              "      <td>4974</td>\n",
              "      <td>23273</td>\n",
              "    </tr>\n",
              "    <tr>\n",
              "      <th>2</th>\n",
              "      <td>2</td>\n",
              "      <td>7</td>\n",
              "      <td>0</td>\n",
              "      <td>0</td>\n",
              "      <td>4873</td>\n",
              "      <td>487</td>\n",
              "      <td>4949</td>\n",
              "      <td>22972</td>\n",
              "    </tr>\n",
              "    <tr>\n",
              "      <th>3</th>\n",
              "      <td>3</td>\n",
              "      <td>8</td>\n",
              "      <td>1</td>\n",
              "      <td>0</td>\n",
              "      <td>4811</td>\n",
              "      <td>481</td>\n",
              "      <td>4924</td>\n",
              "      <td>22803</td>\n",
              "    </tr>\n",
              "    <tr>\n",
              "      <th>4</th>\n",
              "      <td>4</td>\n",
              "      <td>8</td>\n",
              "      <td>1</td>\n",
              "      <td>0</td>\n",
              "      <td>4748</td>\n",
              "      <td>474</td>\n",
              "      <td>4899</td>\n",
              "      <td>21237</td>\n",
              "    </tr>\n",
              "  </tbody>\n",
              "</table>\n",
              "</div>"
            ],
            "text/plain": [
              "   quarantine_day  infected  ...  grocery_store_3  avg_cars_per_day\n",
              "0               0         6  ...             5000             24597\n",
              "1               1         7  ...             4974             23273\n",
              "2               2         7  ...             4949             22972\n",
              "3               3         8  ...             4924             22803\n",
              "4               4         8  ...             4899             21237\n",
              "\n",
              "[5 rows x 8 columns]"
            ]
          },
          "metadata": {
            "tags": []
          },
          "execution_count": 18
        }
      ]
    },
    {
      "cell_type": "code",
      "metadata": {
        "id": "XOUfSp6VdsP2",
        "colab_type": "code",
        "outputId": "a403ad4c-0925-401c-b3ca-76ff0646cfa5",
        "colab": {
          "base_uri": "https://localhost:8080/",
          "height": 224
        }
      },
      "source": [
        "raw_df.sample(frac=1).head()"
      ],
      "execution_count": 19,
      "outputs": [
        {
          "output_type": "execute_result",
          "data": {
            "text/html": [
              "<div>\n",
              "<style scoped>\n",
              "    .dataframe tbody tr th:only-of-type {\n",
              "        vertical-align: middle;\n",
              "    }\n",
              "\n",
              "    .dataframe tbody tr th {\n",
              "        vertical-align: top;\n",
              "    }\n",
              "\n",
              "    .dataframe thead th {\n",
              "        text-align: right;\n",
              "    }\n",
              "</style>\n",
              "<table border=\"1\" class=\"dataframe\">\n",
              "  <thead>\n",
              "    <tr style=\"text-align: right;\">\n",
              "      <th></th>\n",
              "      <th>quarantine_day</th>\n",
              "      <th>infected</th>\n",
              "      <th>deceased</th>\n",
              "      <th>news_freq</th>\n",
              "      <th>grocery_store_1</th>\n",
              "      <th>grocery_store_2</th>\n",
              "      <th>grocery_store_3</th>\n",
              "      <th>avg_cars_per_day</th>\n",
              "    </tr>\n",
              "  </thead>\n",
              "  <tbody>\n",
              "    <tr>\n",
              "      <th>40</th>\n",
              "      <td>40</td>\n",
              "      <td>119</td>\n",
              "      <td>11</td>\n",
              "      <td>1</td>\n",
              "      <td>2672</td>\n",
              "      <td>267</td>\n",
              "      <td>4005</td>\n",
              "      <td>4129</td>\n",
              "    </tr>\n",
              "    <tr>\n",
              "      <th>9</th>\n",
              "      <td>9</td>\n",
              "      <td>12</td>\n",
              "      <td>2</td>\n",
              "      <td>0</td>\n",
              "      <td>4435</td>\n",
              "      <td>443</td>\n",
              "      <td>4773</td>\n",
              "      <td>19240</td>\n",
              "    </tr>\n",
              "    <tr>\n",
              "      <th>48</th>\n",
              "      <td>48</td>\n",
              "      <td>198</td>\n",
              "      <td>15</td>\n",
              "      <td>1</td>\n",
              "      <td>2296</td>\n",
              "      <td>229</td>\n",
              "      <td>3813</td>\n",
              "      <td>459</td>\n",
              "    </tr>\n",
              "    <tr>\n",
              "      <th>119</th>\n",
              "      <td>120</td>\n",
              "      <td>981</td>\n",
              "      <td>110</td>\n",
              "      <td>3</td>\n",
              "      <td>474</td>\n",
              "      <td>47</td>\n",
              "      <td>2314</td>\n",
              "      <td>12565</td>\n",
              "    </tr>\n",
              "    <tr>\n",
              "      <th>10</th>\n",
              "      <td>10</td>\n",
              "      <td>13</td>\n",
              "      <td>2</td>\n",
              "      <td>1</td>\n",
              "      <td>4373</td>\n",
              "      <td>437</td>\n",
              "      <td>4748</td>\n",
              "      <td>19118</td>\n",
              "    </tr>\n",
              "  </tbody>\n",
              "</table>\n",
              "</div>"
            ],
            "text/plain": [
              "     quarantine_day  infected  ...  grocery_store_3  avg_cars_per_day\n",
              "40               40       119  ...             4005              4129\n",
              "9                 9        12  ...             4773             19240\n",
              "48               48       198  ...             3813               459\n",
              "119             120       981  ...             2314             12565\n",
              "10               10        13  ...             4748             19118\n",
              "\n",
              "[5 rows x 8 columns]"
            ]
          },
          "metadata": {
            "tags": []
          },
          "execution_count": 19
        }
      ]
    },
    {
      "cell_type": "code",
      "metadata": {
        "id": "N-lsul1HcdYh",
        "colab_type": "code",
        "outputId": "6a5562d4-18d3-4635-c061-86458adc4679",
        "colab": {
          "base_uri": "https://localhost:8080/",
          "height": 317
        }
      },
      "source": [
        "raw_df.describe(include='all')"
      ],
      "execution_count": 20,
      "outputs": [
        {
          "output_type": "execute_result",
          "data": {
            "text/html": [
              "<div>\n",
              "<style scoped>\n",
              "    .dataframe tbody tr th:only-of-type {\n",
              "        vertical-align: middle;\n",
              "    }\n",
              "\n",
              "    .dataframe tbody tr th {\n",
              "        vertical-align: top;\n",
              "    }\n",
              "\n",
              "    .dataframe thead th {\n",
              "        text-align: right;\n",
              "    }\n",
              "</style>\n",
              "<table border=\"1\" class=\"dataframe\">\n",
              "  <thead>\n",
              "    <tr style=\"text-align: right;\">\n",
              "      <th></th>\n",
              "      <th>quarantine_day</th>\n",
              "      <th>infected</th>\n",
              "      <th>deceased</th>\n",
              "      <th>news_freq</th>\n",
              "      <th>grocery_store_1</th>\n",
              "      <th>grocery_store_2</th>\n",
              "      <th>grocery_store_3</th>\n",
              "      <th>avg_cars_per_day</th>\n",
              "    </tr>\n",
              "  </thead>\n",
              "  <tbody>\n",
              "    <tr>\n",
              "      <th>count</th>\n",
              "      <td>120.000000</td>\n",
              "      <td>120.000000</td>\n",
              "      <td>120.000000</td>\n",
              "      <td>120.000000</td>\n",
              "      <td>120.000000</td>\n",
              "      <td>120.000000</td>\n",
              "      <td>120.000000</td>\n",
              "      <td>120.000000</td>\n",
              "    </tr>\n",
              "    <tr>\n",
              "      <th>mean</th>\n",
              "      <td>59.508333</td>\n",
              "      <td>442.241667</td>\n",
              "      <td>33.058333</td>\n",
              "      <td>1.250000</td>\n",
              "      <td>2152.975000</td>\n",
              "      <td>214.866667</td>\n",
              "      <td>3582.300000</td>\n",
              "      <td>10307.325000</td>\n",
              "    </tr>\n",
              "    <tr>\n",
              "      <th>std</th>\n",
              "      <td>34.799545</td>\n",
              "      <td>374.072859</td>\n",
              "      <td>30.885611</td>\n",
              "      <td>1.055199</td>\n",
              "      <td>1352.575312</td>\n",
              "      <td>135.234557</td>\n",
              "      <td>792.512753</td>\n",
              "      <td>5638.813836</td>\n",
              "    </tr>\n",
              "    <tr>\n",
              "      <th>min</th>\n",
              "      <td>0.000000</td>\n",
              "      <td>6.000000</td>\n",
              "      <td>0.000000</td>\n",
              "      <td>0.000000</td>\n",
              "      <td>474.000000</td>\n",
              "      <td>47.000000</td>\n",
              "      <td>2314.000000</td>\n",
              "      <td>-290.000000</td>\n",
              "    </tr>\n",
              "    <tr>\n",
              "      <th>25%</th>\n",
              "      <td>29.750000</td>\n",
              "      <td>58.750000</td>\n",
              "      <td>7.000000</td>\n",
              "      <td>0.000000</td>\n",
              "      <td>952.750000</td>\n",
              "      <td>94.500000</td>\n",
              "      <td>2889.750000</td>\n",
              "      <td>6067.000000</td>\n",
              "    </tr>\n",
              "    <tr>\n",
              "      <th>50%</th>\n",
              "      <td>59.500000</td>\n",
              "      <td>370.000000</td>\n",
              "      <td>22.500000</td>\n",
              "      <td>1.000000</td>\n",
              "      <td>1824.000000</td>\n",
              "      <td>182.000000</td>\n",
              "      <td>3542.500000</td>\n",
              "      <td>11095.000000</td>\n",
              "    </tr>\n",
              "    <tr>\n",
              "      <th>75%</th>\n",
              "      <td>89.250000</td>\n",
              "      <td>846.500000</td>\n",
              "      <td>52.500000</td>\n",
              "      <td>2.000000</td>\n",
              "      <td>3207.750000</td>\n",
              "      <td>320.250000</td>\n",
              "      <td>4255.250000</td>\n",
              "      <td>12741.500000</td>\n",
              "    </tr>\n",
              "    <tr>\n",
              "      <th>max</th>\n",
              "      <td>120.000000</td>\n",
              "      <td>981.000000</td>\n",
              "      <td>110.000000</td>\n",
              "      <td>3.000000</td>\n",
              "      <td>5000.000000</td>\n",
              "      <td>500.000000</td>\n",
              "      <td>5000.000000</td>\n",
              "      <td>24597.000000</td>\n",
              "    </tr>\n",
              "  </tbody>\n",
              "</table>\n",
              "</div>"
            ],
            "text/plain": [
              "       quarantine_day    infected  ...  grocery_store_3  avg_cars_per_day\n",
              "count      120.000000  120.000000  ...       120.000000        120.000000\n",
              "mean        59.508333  442.241667  ...      3582.300000      10307.325000\n",
              "std         34.799545  374.072859  ...       792.512753       5638.813836\n",
              "min          0.000000    6.000000  ...      2314.000000       -290.000000\n",
              "25%         29.750000   58.750000  ...      2889.750000       6067.000000\n",
              "50%         59.500000  370.000000  ...      3542.500000      11095.000000\n",
              "75%         89.250000  846.500000  ...      4255.250000      12741.500000\n",
              "max        120.000000  981.000000  ...      5000.000000      24597.000000\n",
              "\n",
              "[8 rows x 8 columns]"
            ]
          },
          "metadata": {
            "tags": []
          },
          "execution_count": 20
        }
      ]
    },
    {
      "cell_type": "code",
      "metadata": {
        "id": "EHDsQVD9fGvI",
        "colab_type": "code",
        "colab": {}
      },
      "source": [
        "import matplotlib.pyplot as plt"
      ],
      "execution_count": 0,
      "outputs": []
    },
    {
      "cell_type": "code",
      "metadata": {
        "id": "XIab-QdPdXVB",
        "colab_type": "code",
        "outputId": "ced85bba-6d08-4c0a-ea5e-7947312db4ee",
        "colab": {
          "base_uri": "https://localhost:8080/",
          "height": 295
        }
      },
      "source": [
        "# Plot infected and deceased.\n",
        "plt.plot(raw_df['quarantine_day'].values.ravel(), raw_df['infected'].values.ravel(), label='infected')\n",
        "plt.plot(raw_df['quarantine_day'].values.ravel(), raw_df['deceased'].values.ravel(), label='deceased')\n",
        "plt.title('Affected Population')\n",
        "plt.xlabel('Quarantine Days')\n",
        "plt.ylabel('Population Size')\n",
        "plt.legend()\n",
        "plt.show()"
      ],
      "execution_count": 22,
      "outputs": [
        {
          "output_type": "display_data",
          "data": {
            "image/png": "[encoded data removed]",
            "text/plain": [
              "<Figure size 432x288 with 1 Axes>"
            ]
          },
          "metadata": {
            "tags": [],
            "needs_background": "light"
          }
        }
      ]
    },
    {
      "cell_type": "code",
      "metadata": {
        "id": "jP9RVmNqg-IU",
        "colab_type": "code",
        "outputId": "2f9ec094-2692-4b11-8de0-83f9b80c8db2",
        "colab": {
          "base_uri": "https://localhost:8080/",
          "height": 295
        }
      },
      "source": [
        "# Plot COVID topic frequency in the news channel\n",
        "plt.plot(raw_df['quarantine_day'].values.ravel(), raw_df['news_freq'].values.ravel())\n",
        "plt.title('Times COVID was covered in the news per day')\n",
        "plt.xlabel('Quarantine Days')\n",
        "plt.ylabel('Frequency')\n",
        "plt.show()"
      ],
      "execution_count": 23,
      "outputs": [
        {
          "output_type": "display_data",
          "data": {
            "image/png": "[encoded data removed]",
            "text/plain": [
              "<Figure size 432x288 with 1 Axes>"
            ]
          },
          "metadata": {
            "tags": [],
            "needs_background": "light"
          }
        }
      ]
    },
    {
      "cell_type": "code",
      "metadata": {
        "id": "nmFSAzxvj-fJ",
        "colab_type": "code",
        "outputId": "8cc8dbc1-b4eb-471f-f9ad-28126216780a",
        "colab": {
          "base_uri": "https://localhost:8080/",
          "height": 295
        }
      },
      "source": [
        "# Plot grocery stores\n",
        "plt.plot(raw_df['quarantine_day'].values.ravel(), raw_df['grocery_store_1'].values.ravel(), label='Grocery Store 1')\n",
        "plt.plot(raw_df['quarantine_day'].values.ravel(), raw_df['grocery_store_2'].values.ravel(), label='Grocery Store 2')\n",
        "plt.plot(raw_df['quarantine_day'].values.ravel(), raw_df['grocery_store_3'].values.ravel(), label='Grocery Store 3')\n",
        "plt.title('Available Toilet Paper in Grocery Stores')\n",
        "plt.xlabel('Quarantine Days')\n",
        "plt.ylabel('Toilet Paper')\n",
        "plt.legend()\n",
        "plt.show()"
      ],
      "execution_count": 24,
      "outputs": [
        {
          "output_type": "display_data",
          "data": {
            "image/png": "[encoded data removed]",
            "text/plain": [
              "<Figure size 432x288 with 1 Axes>"
            ]
          },
          "metadata": {
            "tags": [],
            "needs_background": "light"
          }
        }
      ]
    },
    {
      "cell_type": "code",
      "metadata": {
        "id": "YUpkfb0shoou",
        "colab_type": "code",
        "outputId": "232e0bc1-86ee-4070-d9ff-0313321d8ee0",
        "colab": {
          "base_uri": "https://localhost:8080/",
          "height": 295
        }
      },
      "source": [
        "# Plot cars.\n",
        "plt.plot(raw_df['quarantine_day'].values.ravel(), raw_df['avg_cars_per_day'].values.ravel())\n",
        "plt.title('Times COVID was covered in the news per day')\n",
        "plt.xlabel('Quarantine Days')\n",
        "plt.ylabel('Frequency')\n",
        "plt.show()"
      ],
      "execution_count": 25,
      "outputs": [
        {
          "output_type": "display_data",
          "data": {
            "image/png": "[encoded data removed]",
            "text/plain": [
              "<Figure size 432x288 with 1 Axes>"
            ]
          },
          "metadata": {
            "tags": [],
            "needs_background": "light"
          }
        }
      ]
    },
    {
      "cell_type": "markdown",
      "metadata": {
        "id": "EaCbNDZujfn5",
        "colab_type": "text"
      },
      "source": [
        "## Feature Engineering"
      ]
    },
    {
      "cell_type": "code",
      "metadata": {
        "id": "5dxSCj4csg3M",
        "colab_type": "code",
        "colab": {}
      },
      "source": [
        "# Initialize resulting processed df.\n",
        "# I usually include raw columns, just in case.\n",
        "proc_df = raw_df"
      ],
      "execution_count": 0,
      "outputs": []
    },
    {
      "cell_type": "code",
      "metadata": {
        "id": "skcKbUP4jmOJ",
        "colab_type": "code",
        "colab": {}
      },
      "source": [
        "panic_ratio_ = deceased/inf÷(deceased+1)\n",
        "infected = raw_df['infected'].values.ravel()\n",
        "deceased = raw_df['deceased'].values.ravel()"
      ],
      "execution_count": 0,
      "outputs": []
    },
    {
      "cell_type": "code",
      "metadata": {
        "id": "xXaxdx-jmktF",
        "colab_type": "code",
        "outputId": "48c12b2b-0572-4033-fad4-fdfd2a719739",
        "colab": {
          "base_uri": "https://localhost:8080/",
          "height": 265
        }
      },
      "source": [
        "plt.plot(raw_df['quarantine_day'].values.ravel(), panic_ratio)\n",
        "plt.show()"
      ],
      "execution_count": 118,
      "outputs": [
        {
          "output_type": "display_data",
          "data": {
            "image/png": "[encoded data removed]",
            "text/plain": [
              "<Figure size 432x288 with 1 Axes>"
            ]
          },
          "metadata": {
            "tags": [],
            "needs_background": "light"
          }
        }
      ]
    },
    {
      "cell_type": "code",
      "metadata": {
        "id": "PEMT18JjCfKm",
        "colab_type": "code",
        "colab": {
          "base_uri": "https://localhost:8080/",
          "height": 265
        },
        "outputId": "79e61e4c-6c0d-4a37-c83c-9de502eb270c"
      },
      "source": [
        "plt.plot(raw_df['quarantine_day'].values.ravel(), panic_ratio_)\n",
        "plt.show()"
      ],
      "execution_count": 119,
      "outputs": [
        {
          "output_type": "display_data",
          "data": {
            "image/png": "[encoded data removed]",
            "text/plain": [
              "<Figure size 432x288 with 1 Axes>"
            ]
          },
          "metadata": {
            "tags": [],
            "needs_background": "light"
          }
        }
      ]
    },
    {
      "cell_type": "code",
      "metadata": {
        "id": "1yolR6_esgB0",
        "colab_type": "code",
        "colab": {}
      },
      "source": [
        "proc_df['panic_ratio'] = panic_ratio"
      ],
      "execution_count": 0,
      "outputs": []
    },
    {
      "cell_type": "code",
      "metadata": {
        "id": "73zemA5KnmIu",
        "colab_type": "code",
        "colab": {}
      },
      "source": [
        " g1 = raw_df['grocery_store_1'].values.ravel()\n",
        " g2 = raw_df['grocery_store_2'].values.ravel()\n",
        " g3 = raw_df['grocery_store_3'].values.ravel()\n",
        " groceries = (g1 + g2 + g3) / 3"
      ],
      "execution_count": 0,
      "outputs": []
    },
    {
      "cell_type": "code",
      "metadata": {
        "id": "8xWq8U_2o6Z3",
        "colab_type": "code",
        "outputId": "6d729531-a68f-40d5-d14f-a0150408a6e5",
        "colab": {
          "base_uri": "https://localhost:8080/",
          "height": 265
        }
      },
      "source": [
        "plt.plot(raw_df['quarantine_day'].values.ravel(), groceries)\n",
        "plt.show()"
      ],
      "execution_count": 31,
      "outputs": [
        {
          "output_type": "display_data",
          "data": {
            "image/png": "[encoded data removed]",
            "text/plain": [
              "<Figure size 432x288 with 1 Axes>"
            ]
          },
          "metadata": {
            "tags": [],
            "needs_background": "light"
          }
        }
      ]
    },
    {
      "cell_type": "code",
      "metadata": {
        "id": "UArZuV3Xsxg4",
        "colab_type": "code",
        "colab": {}
      },
      "source": [
        "proc_df['avg_paper_availability'] = groceries"
      ],
      "execution_count": 0,
      "outputs": []
    },
    {
      "cell_type": "code",
      "metadata": {
        "id": "54RO3UYHpQ6H",
        "colab_type": "code",
        "colab": {}
      },
      "source": [
        "# Seudo moving average for COVID topic popularity in the news\n",
        "k = 10\n",
        "current_vals = raw_df['news_freq'].values.ravel()\n",
        "seudo_avg_news = [np.mean(current_vals[i:i+k]) for i in range(len(current_vals))]"
      ],
      "execution_count": 0,
      "outputs": []
    },
    {
      "cell_type": "code",
      "metadata": {
        "id": "0C95zhRyqvKR",
        "colab_type": "code",
        "outputId": "2d81fa39-d146-4ffa-eb2a-c5d38f22a174",
        "colab": {
          "base_uri": "https://localhost:8080/",
          "height": 265
        }
      },
      "source": [
        "plt.plot(raw_df['quarantine_day'].values.ravel(), seudo_avg_news)\n",
        "plt.show()"
      ],
      "execution_count": 34,
      "outputs": [
        {
          "output_type": "display_data",
          "data": {
            "image/png": "[encoded data removed]",
            "text/plain": [
              "<Figure size 432x288 with 1 Axes>"
            ]
          },
          "metadata": {
            "tags": [],
            "needs_background": "light"
          }
        }
      ]
    },
    {
      "cell_type": "code",
      "metadata": {
        "id": "i1jQNKRCtATO",
        "colab_type": "code",
        "colab": {}
      },
      "source": [
        "proc_df['news_covid_popularity'] = seudo_avg_news"
      ],
      "execution_count": 0,
      "outputs": []
    },
    {
      "cell_type": "code",
      "metadata": {
        "id": "fuYt6iJertQj",
        "colab_type": "code",
        "colab": {}
      },
      "source": [
        "# Reduce noise of cars with moving average.\n",
        "k = 20\n",
        "cars = raw_df['avg_cars_per_day'].values.ravel()\n",
        "cars_smoothed = [np.mean(cars[i:i+k]) for i in range(len(cars))]"
      ],
      "execution_count": 0,
      "outputs": []
    },
    {
      "cell_type": "code",
      "metadata": {
        "id": "Yhgi9W_ksF4D",
        "colab_type": "code",
        "outputId": "d124ba81-5105-45bb-b40c-289855117bc9",
        "colab": {
          "base_uri": "https://localhost:8080/",
          "height": 266
        }
      },
      "source": [
        "plt.plot(raw_df['quarantine_day'].values.ravel(), cars_smoothed)\n",
        "plt.show()"
      ],
      "execution_count": 37,
      "outputs": [
        {
          "output_type": "display_data",
          "data": {
            "image/png": "[encoded data removed]",
            "text/plain": [
              "<Figure size 432x288 with 1 Axes>"
            ]
          },
          "metadata": {
            "tags": [],
            "needs_background": "light"
          }
        }
      ]
    },
    {
      "cell_type": "code",
      "metadata": {
        "id": "8XkO0IiYtLIe",
        "colab_type": "code",
        "colab": {}
      },
      "source": [
        "proc_df['avg_cars_outside'] = cars_smoothed"
      ],
      "execution_count": 0,
      "outputs": []
    },
    {
      "cell_type": "code",
      "metadata": {
        "id": "V1yiO7Cpta8b",
        "colab_type": "code",
        "colab": {}
      },
      "source": [
        "eng_features = [\n",
        "'quarantine_day',\n",
        "'panic_ratio',\n",
        "'avg_paper_availability',\n",
        "'news_covid_popularity',\n",
        "'avg_cars_outside',\n",
        "]"
      ],
      "execution_count": 0,
      "outputs": []
    },
    {
      "cell_type": "code",
      "metadata": {
        "id": "Yw-qMNo-unsb",
        "colab_type": "code",
        "colab": {}
      },
      "source": [
        "label = 'sales'"
      ],
      "execution_count": 0,
      "outputs": []
    },
    {
      "cell_type": "code",
      "metadata": {
        "id": "EyHL9Zsmuu8y",
        "colab_type": "code",
        "colab": {}
      },
      "source": [
        "sales_df = pd.read_csv('predicting_in_48/sales_data.csv', index_col=0).astype(int)"
      ],
      "execution_count": 0,
      "outputs": []
    },
    {
      "cell_type": "code",
      "metadata": {
        "id": "fngiIkVav5J2",
        "colab_type": "code",
        "outputId": "456a3c39-03f2-403c-fef0-9eff139c2e38",
        "colab": {
          "base_uri": "https://localhost:8080/",
          "height": 204
        }
      },
      "source": [
        "sales_df.head()"
      ],
      "execution_count": 42,
      "outputs": [
        {
          "output_type": "execute_result",
          "data": {
            "text/html": [
              "<div>\n",
              "<style scoped>\n",
              "    .dataframe tbody tr th:only-of-type {\n",
              "        vertical-align: middle;\n",
              "    }\n",
              "\n",
              "    .dataframe tbody tr th {\n",
              "        vertical-align: top;\n",
              "    }\n",
              "\n",
              "    .dataframe thead th {\n",
              "        text-align: right;\n",
              "    }\n",
              "</style>\n",
              "<table border=\"1\" class=\"dataframe\">\n",
              "  <thead>\n",
              "    <tr style=\"text-align: right;\">\n",
              "      <th></th>\n",
              "      <th>day</th>\n",
              "      <th>sales</th>\n",
              "    </tr>\n",
              "  </thead>\n",
              "  <tbody>\n",
              "    <tr>\n",
              "      <th>0</th>\n",
              "      <td>0</td>\n",
              "      <td>6622</td>\n",
              "    </tr>\n",
              "    <tr>\n",
              "      <th>1</th>\n",
              "      <td>1</td>\n",
              "      <td>6961</td>\n",
              "    </tr>\n",
              "    <tr>\n",
              "      <th>2</th>\n",
              "      <td>2</td>\n",
              "      <td>7316</td>\n",
              "    </tr>\n",
              "    <tr>\n",
              "      <th>3</th>\n",
              "      <td>3</td>\n",
              "      <td>7690</td>\n",
              "    </tr>\n",
              "    <tr>\n",
              "      <th>4</th>\n",
              "      <td>4</td>\n",
              "      <td>8083</td>\n",
              "    </tr>\n",
              "  </tbody>\n",
              "</table>\n",
              "</div>"
            ],
            "text/plain": [
              "   day  sales\n",
              "0    0   6622\n",
              "1    1   6961\n",
              "2    2   7316\n",
              "3    3   7690\n",
              "4    4   8083"
            ]
          },
          "metadata": {
            "tags": []
          },
          "execution_count": 42
        }
      ]
    },
    {
      "cell_type": "code",
      "metadata": {
        "id": "eTKijBw8WRuQ",
        "colab_type": "code",
        "colab": {}
      },
      "source": [
        "corr_df = proc_df\n",
        "corr_df['sales'] = sales_df['sales']"
      ],
      "execution_count": 0,
      "outputs": []
    },
    {
      "cell_type": "code",
      "metadata": {
        "id": "_4y0EMjvWY5a",
        "colab_type": "code",
        "outputId": "39ae4966-a27f-41ed-cf13-49b55fe0cd35",
        "colab": {
          "base_uri": "https://localhost:8080/",
          "height": 255
        }
      },
      "source": [
        "corr_df.corr()['sales']"
      ],
      "execution_count": 44,
      "outputs": [
        {
          "output_type": "execute_result",
          "data": {
            "text/plain": [
              "quarantine_day            0.932214\n",
              "infected                  0.942108\n",
              "deceased                  0.996840\n",
              "news_freq                 0.774960\n",
              "grocery_store_1          -0.835765\n",
              "grocery_store_2          -0.835888\n",
              "grocery_store_3          -0.915153\n",
              "avg_cars_per_day          0.109992\n",
              "panic_ratio               0.334860\n",
              "avg_paper_availability   -0.866116\n",
              "news_covid_popularity     0.880110\n",
              "avg_cars_outside          0.410718\n",
              "sales                     1.000000\n",
              "Name: sales, dtype: float64"
            ]
          },
          "metadata": {
            "tags": []
          },
          "execution_count": 44
        }
      ]
    },
    {
      "cell_type": "markdown",
      "metadata": {
        "id": "xm1LdDXSjoEE",
        "colab_type": "text"
      },
      "source": [
        "## Training"
      ]
    },
    {
      "cell_type": "code",
      "metadata": {
        "id": "Npdqjobzjung",
        "colab_type": "code",
        "colab": {}
      },
      "source": [
        "X = proc_df[eng_features]"
      ],
      "execution_count": 0,
      "outputs": []
    },
    {
      "cell_type": "code",
      "metadata": {
        "id": "Il-353_WuSDH",
        "colab_type": "code",
        "colab": {}
      },
      "source": [
        "y = sales_df[label]"
      ],
      "execution_count": 0,
      "outputs": []
    },
    {
      "cell_type": "code",
      "metadata": {
        "id": "fiRg46dOwDSd",
        "colab_type": "code",
        "colab": {}
      },
      "source": [
        "from sklearn.model_selection import train_test_split"
      ],
      "execution_count": 0,
      "outputs": []
    },
    {
      "cell_type": "code",
      "metadata": {
        "id": "RFntoJZKwfwz",
        "colab_type": "code",
        "colab": {}
      },
      "source": [
        "X_train, X_test, y_train, y_test = train_test_split(X, y, test_size = 0.4)"
      ],
      "execution_count": 0,
      "outputs": []
    },
    {
      "cell_type": "code",
      "metadata": {
        "id": "46jUTgXPxDBe",
        "colab_type": "code",
        "colab": {}
      },
      "source": [
        "from sklearn.linear_model import LinearRegression"
      ],
      "execution_count": 0,
      "outputs": []
    },
    {
      "cell_type": "code",
      "metadata": {
        "id": "RyAQgdG7xSwj",
        "colab_type": "code",
        "outputId": "6458276f-297c-4579-95d6-d62db35fcf4f",
        "colab": {
          "base_uri": "https://localhost:8080/",
          "height": 309
        }
      },
      "source": [
        "X_train.head()"
      ],
      "execution_count": 93,
      "outputs": [
        {
          "output_type": "execute_result",
          "data": {
            "text/html": [
              "<div>\n",
              "<style scoped>\n",
              "    .dataframe tbody tr th:only-of-type {\n",
              "        vertical-align: middle;\n",
              "    }\n",
              "\n",
              "    .dataframe tbody tr th {\n",
              "        vertical-align: top;\n",
              "    }\n",
              "\n",
              "    .dataframe thead th {\n",
              "        text-align: right;\n",
              "    }\n",
              "</style>\n",
              "<table border=\"1\" class=\"dataframe\">\n",
              "  <thead>\n",
              "    <tr style=\"text-align: right;\">\n",
              "      <th></th>\n",
              "      <th>quarantine_day</th>\n",
              "      <th>panic_ratio</th>\n",
              "      <th>avg_paper_availability</th>\n",
              "      <th>news_covid_popularity</th>\n",
              "      <th>cars_1/y^3</th>\n",
              "    </tr>\n",
              "  </thead>\n",
              "  <tbody>\n",
              "    <tr>\n",
              "      <th>39</th>\n",
              "      <td>39</td>\n",
              "      <td>9.333333</td>\n",
              "      <td>2341.000000</td>\n",
              "      <td>1.0</td>\n",
              "      <td>9.750585e-11</td>\n",
              "    </tr>\n",
              "    <tr>\n",
              "      <th>13</th>\n",
              "      <td>13</td>\n",
              "      <td>4.500000</td>\n",
              "      <td>3092.333333</td>\n",
              "      <td>0.5</td>\n",
              "      <td>4.817715e-13</td>\n",
              "    </tr>\n",
              "    <tr>\n",
              "      <th>91</th>\n",
              "      <td>91</td>\n",
              "      <td>15.428571</td>\n",
              "      <td>1287.000000</td>\n",
              "      <td>2.5</td>\n",
              "      <td>5.192125e-13</td>\n",
              "    </tr>\n",
              "    <tr>\n",
              "      <th>0</th>\n",
              "      <td>0</td>\n",
              "      <td>7.000000</td>\n",
              "      <td>3500.000000</td>\n",
              "      <td>0.0</td>\n",
              "      <td>1.370048e-13</td>\n",
              "    </tr>\n",
              "    <tr>\n",
              "      <th>79</th>\n",
              "      <td>79</td>\n",
              "      <td>17.536585</td>\n",
              "      <td>1475.666667</td>\n",
              "      <td>1.8</td>\n",
              "      <td>6.913235e-13</td>\n",
              "    </tr>\n",
              "  </tbody>\n",
              "</table>\n",
              "</div>"
            ],
            "text/plain": [
              "    quarantine_day  panic_ratio  ...  news_covid_popularity    cars_1/y^3\n",
              "39              39     9.333333  ...                    1.0  9.750585e-11\n",
              "13              13     4.500000  ...                    0.5  4.817715e-13\n",
              "91              91    15.428571  ...                    2.5  5.192125e-13\n",
              "0                0     7.000000  ...                    0.0  1.370048e-13\n",
              "79              79    17.536585  ...                    1.8  6.913235e-13\n",
              "\n",
              "[5 rows x 5 columns]"
            ]
          },
          "metadata": {
            "tags": []
          },
          "execution_count": 93
        }
      ]
    },
    {
      "cell_type": "code",
      "metadata": {
        "id": "og2MmGn0xUXA",
        "colab_type": "code",
        "outputId": "ea39f30d-8e61-41b2-b7d1-bbbf09b4a98d",
        "colab": {
          "base_uri": "https://localhost:8080/",
          "height": 34
        }
      },
      "source": [
        "print(np.max(X_train.values.ravel()))"
      ],
      "execution_count": 94,
      "outputs": [
        {
          "output_type": "stream",
          "text": [
            "3500.0\n"
          ],
          "name": "stdout"
        }
      ]
    },
    {
      "cell_type": "code",
      "metadata": {
        "id": "t4otANV7xH_A",
        "colab_type": "code",
        "colab": {}
      },
      "source": [
        "sales_reg = LinearRegression().fit(X_train.values, y_train.values)"
      ],
      "execution_count": 0,
      "outputs": []
    },
    {
      "cell_type": "code",
      "metadata": {
        "id": "DNBvF1s2x25T",
        "colab_type": "code",
        "outputId": "bba77483-0c82-4262-a780-0f2fbf2cd7ad",
        "colab": {
          "base_uri": "https://localhost:8080/",
          "height": 34
        }
      },
      "source": [
        "train_score = sales_reg.score(X_train.values, y_train.values)\n",
        "test_score = sales_reg.score(X_test.values, y_test.values)\n",
        "print('Train score: %f Test score: %f' % (train_score, test_score))"
      ],
      "execution_count": 96,
      "outputs": [
        {
          "output_type": "stream",
          "text": [
            "Train score: 0.999685 Test score: 0.998952\n"
          ],
          "name": "stdout"
        }
      ]
    },
    {
      "cell_type": "code",
      "metadata": {
        "id": "dzmagubM8dgg",
        "colab_type": "code",
        "colab": {}
      },
      "source": [
        "next_days = [i for i in range(121, 241)]"
      ],
      "execution_count": 0,
      "outputs": []
    },
    {
      "cell_type": "code",
      "metadata": {
        "id": "PztrY_acyQ56",
        "colab_type": "code",
        "outputId": "2a7e4c98-e539-436d-e252-6df0036d57c5",
        "colab": {
          "base_uri": "https://localhost:8080/",
          "height": 85
        }
      },
      "source": [
        "pred_df_dict = {}\n",
        "pred_df_dict['quarantine_day'] = next_days\n",
        "for f in eng_features:\n",
        "  if f == 'quarantine_day':\n",
        "    continue\n",
        "  reg_f = LinearRegression().fit(X_train['quarantine_day'].values.reshape(-1, 1), X_train[f].values.reshape(-1, 1))\n",
        "  train_score = reg_f.score(X_train['quarantine_day'].values.reshape(-1, 1), X_train[f].values.reshape(-1, 1))\n",
        "  test_score = reg_f.score(X_test['quarantine_day'].values.reshape(-1, 1), X_test[f].values.reshape(-1, 1))\n",
        "  print('%s: Train score %f Test Score: %f' % (f, train_score, test_score))\n",
        "  pred_df_dict[f] = reg_f.predict(np.array(next_days).reshape(-1, 1)).ravel()"
      ],
      "execution_count": 98,
      "outputs": [
        {
          "output_type": "stream",
          "text": [
            "panic_ratio: Train score 0.486916 Test Score: 0.156124\n",
            "avg_paper_availability: Train score 0.979466 Test Score: 0.970037\n",
            "news_covid_popularity: Train score 0.776327 Test Score: 0.689092\n",
            "cars_1/y^3: Train score 0.041956 Test Score: 0.073841\n"
          ],
          "name": "stdout"
        }
      ]
    },
    {
      "cell_type": "code",
      "metadata": {
        "id": "MH8V2CLC0GCZ",
        "colab_type": "code",
        "outputId": "10e4536d-d713-49c3-9a8c-cf5a5dce06bc",
        "colab": {
          "base_uri": "https://localhost:8080/",
          "height": 309
        }
      },
      "source": [
        "pred_df = pd.DataFrame(pred_df_dict)\n",
        "pred_df.head()"
      ],
      "execution_count": 99,
      "outputs": [
        {
          "output_type": "execute_result",
          "data": {
            "text/html": [
              "<div>\n",
              "<style scoped>\n",
              "    .dataframe tbody tr th:only-of-type {\n",
              "        vertical-align: middle;\n",
              "    }\n",
              "\n",
              "    .dataframe tbody tr th {\n",
              "        vertical-align: top;\n",
              "    }\n",
              "\n",
              "    .dataframe thead th {\n",
              "        text-align: right;\n",
              "    }\n",
              "</style>\n",
              "<table border=\"1\" class=\"dataframe\">\n",
              "  <thead>\n",
              "    <tr style=\"text-align: right;\">\n",
              "      <th></th>\n",
              "      <th>quarantine_day</th>\n",
              "      <th>panic_ratio</th>\n",
              "      <th>avg_paper_availability</th>\n",
              "      <th>news_covid_popularity</th>\n",
              "      <th>cars_1/y^3</th>\n",
              "    </tr>\n",
              "  </thead>\n",
              "  <tbody>\n",
              "    <tr>\n",
              "      <th>0</th>\n",
              "      <td>121</td>\n",
              "      <td>17.195560</td>\n",
              "      <td>639.124366</td>\n",
              "      <td>2.863794</td>\n",
              "      <td>1.727814e-12</td>\n",
              "    </tr>\n",
              "    <tr>\n",
              "      <th>1</th>\n",
              "      <td>122</td>\n",
              "      <td>17.288182</td>\n",
              "      <td>617.223681</td>\n",
              "      <td>2.887251</td>\n",
              "      <td>1.573912e-12</td>\n",
              "    </tr>\n",
              "    <tr>\n",
              "      <th>2</th>\n",
              "      <td>123</td>\n",
              "      <td>17.380803</td>\n",
              "      <td>595.322995</td>\n",
              "      <td>2.910709</td>\n",
              "      <td>1.420009e-12</td>\n",
              "    </tr>\n",
              "    <tr>\n",
              "      <th>3</th>\n",
              "      <td>124</td>\n",
              "      <td>17.473425</td>\n",
              "      <td>573.422310</td>\n",
              "      <td>2.934166</td>\n",
              "      <td>1.266107e-12</td>\n",
              "    </tr>\n",
              "    <tr>\n",
              "      <th>4</th>\n",
              "      <td>125</td>\n",
              "      <td>17.566047</td>\n",
              "      <td>551.521625</td>\n",
              "      <td>2.957624</td>\n",
              "      <td>1.112205e-12</td>\n",
              "    </tr>\n",
              "  </tbody>\n",
              "</table>\n",
              "</div>"
            ],
            "text/plain": [
              "   quarantine_day  panic_ratio  ...  news_covid_popularity    cars_1/y^3\n",
              "0             121    17.195560  ...               2.863794  1.727814e-12\n",
              "1             122    17.288182  ...               2.887251  1.573912e-12\n",
              "2             123    17.380803  ...               2.910709  1.420009e-12\n",
              "3             124    17.473425  ...               2.934166  1.266107e-12\n",
              "4             125    17.566047  ...               2.957624  1.112205e-12\n",
              "\n",
              "[5 rows x 5 columns]"
            ]
          },
          "metadata": {
            "tags": []
          },
          "execution_count": 99
        }
      ]
    },
    {
      "cell_type": "code",
      "metadata": {
        "id": "fieVzjbV71wo",
        "colab_type": "code",
        "colab": {}
      },
      "source": [
        "pred_results = sales_reg.predict(pred_df.values).ravel()\n",
        "pred_sales = [None for i in range(120)]\n",
        "for r in pred_results:\n",
        "  pred_sales.append(r)"
      ],
      "execution_count": 0,
      "outputs": []
    },
    {
      "cell_type": "code",
      "metadata": {
        "id": "_IYav5uPBwgl",
        "colab_type": "code",
        "colab": {}
      },
      "source": [
        "current_sales = sales_df['sales'].values.ravel()\n",
        "current_sales = list(current_sales)\n",
        "for i in range(120):\n",
        "  current_sales.append(None)"
      ],
      "execution_count": 0,
      "outputs": []
    },
    {
      "cell_type": "code",
      "metadata": {
        "id": "cBMBe72mDz77",
        "colab_type": "code",
        "outputId": "e58490e7-b935-4c0e-89f7-aa794201e29b",
        "colab": {
          "base_uri": "https://localhost:8080/",
          "height": 34
        }
      },
      "source": [
        "len(current_sales)"
      ],
      "execution_count": 102,
      "outputs": [
        {
          "output_type": "execute_result",
          "data": {
            "text/plain": [
              "240"
            ]
          },
          "metadata": {
            "tags": []
          },
          "execution_count": 102
        }
      ]
    },
    {
      "cell_type": "code",
      "metadata": {
        "id": "pKZu5OsoDCs_",
        "colab_type": "code",
        "outputId": "164ee39b-5b1e-48e6-ad4a-4c2f9f903e7f",
        "colab": {
          "base_uri": "https://localhost:8080/",
          "height": 295
        }
      },
      "source": [
        "total_quarantine_days = [i for i in range(240)]\n",
        "plt.plot(total_quarantine_days, current_sales, label='Current Sales')\n",
        "plt.plot(total_quarantine_days, pred_sales, label='Predicted Sales')\n",
        "plt.title('Sales Forecast')\n",
        "plt.xlabel('Quarantine Days')\n",
        "plt.ylabel('Sales')\n",
        "plt.legend()\n",
        "plt.show()"
      ],
      "execution_count": 103,
      "outputs": [
        {
          "output_type": "display_data",
          "data": {
            "image/png": "[encoded data removed]",
            "text/plain": [
              "<Figure size 432x288 with 1 Axes>"
            ]
          },
          "metadata": {
            "tags": [],
            "needs_background": "light"
          }
        }
      ]
    },
    {
      "cell_type": "code",
      "metadata": {
        "id": "VITA60bsFOrT",
        "colab_type": "code",
        "colab": {}
      },
      "source": [
        "real_sales = pd.read_csv('predicting_in_48/real_sales_data.csv', index_col=0)['sales'].values.ravel()"
      ],
      "execution_count": 0,
      "outputs": []
    },
    {
      "cell_type": "code",
      "metadata": {
        "id": "RBE24r7KGg8l",
        "colab_type": "code",
        "outputId": "8c267093-547c-4b67-874d-2693bd70e006",
        "colab": {
          "base_uri": "https://localhost:8080/",
          "height": 295
        }
      },
      "source": [
        "total_quarantine_days = [i for i in range(240)]\n",
        "plt.plot(total_quarantine_days, current_sales, label='Current Sales')\n",
        "plt.plot(total_quarantine_days, pred_sales, label='Predicted Sales')\n",
        "plt.plot(total_quarantine_days, real_sales, label='Real')\n",
        "plt.title('Sales Forecast')\n",
        "plt.xlabel('Quarantine Days')\n",
        "plt.ylabel('Sales')\n",
        "plt.legend()\n",
        "plt.show()"
      ],
      "execution_count": 105,
      "outputs": [
        {
          "output_type": "display_data",
          "data": {
            "image/png": "[encoded data removed]",
            "text/plain": [
              "<Figure size 432x288 with 1 Axes>"
            ]
          },
          "metadata": {
            "tags": [],
            "needs_background": "light"
          }
        }
      ]
    },
    {
      "cell_type": "markdown",
      "metadata": {
        "id": "y0AJ5L98ANvt",
        "colab_type": "text"
      },
      "source": [
        "## Evaluations and Improvement"
      ]
    },
    {
      "cell_type": "code",
      "metadata": {
        "id": "eEa-jR2dATXM",
        "colab_type": "code",
        "colab": {}
      },
      "source": [
        "# Pruning or improving feature engineering"
      ],
      "execution_count": 0,
      "outputs": []
    },
    {
      "cell_type": "code",
      "metadata": {
        "id": "t6v0PjcoKtwJ",
        "colab_type": "code",
        "colab": {}
      },
      "source": [
        "eng_features = [\n",
        "'quarantine_day',\n",
        "'panic_ratio',\n",
        "'avg_paper_availability',\n",
        "'news_covid_popularity',\n",
        "]"
      ],
      "execution_count": 0,
      "outputs": []
    },
    {
      "cell_type": "code",
      "metadata": {
        "id": "W8Ul-Cw3LGlx",
        "colab_type": "code",
        "colab": {}
      },
      "source": [
        "# Reduce noise of cars with moving average.\n",
        "cars = proc_df['avg_cars_outside'].values.ravel()"
      ],
      "execution_count": 0,
      "outputs": []
    },
    {
      "cell_type": "markdown",
      "metadata": {
        "id": "nvF9KdUuN9k-",
        "colab_type": "text"
      },
      "source": [
        "Ladder of Transformations\n",
        "- y^3\n",
        "- y^2\n",
        "- y\n",
        "- √y\n",
        "- log y\n",
        "- y^-1\n",
        "- y^-2\n",
        "- y^-3"
      ]
    },
    {
      "cell_type": "code",
      "metadata": {
        "id": "YbastzTKL_WW",
        "colab_type": "code",
        "outputId": "7e00c503-d5f0-40ee-ff7f-549f9edd05d7",
        "colab": {
          "base_uri": "https://localhost:8080/",
          "height": 1000
        }
      },
      "source": [
        "ladder = {\n",
        "          'y^3': cars ** 3,\n",
        "          'y^2': cars ** 2,\n",
        "          'sqrt y': np.sqrt(cars),\n",
        "          'log y': np.log(cars),\n",
        "          '1/y': cars ** -1,\n",
        "          '1/y^2': cars ** -2,\n",
        "          '1/y^3': cars ** -3\n",
        "}\n",
        "quarantine_days = raw_df['quarantine_day'].values.ravel()\n",
        "for k, l in ladder.items():\n",
        "  plt.figure()\n",
        "  plt.plot(quarantine_days, l, label=k, color='red')\n",
        "  plt.plot(quarantine_days, cars, label='y', color='blue')\n",
        "  plt.legend()\n",
        "plt.show()"
      ],
      "execution_count": 84,
      "outputs": [
        {
          "output_type": "display_data",
          "data": {
            "image/png": "[encoded data removed]",
            "text/plain": [
              "<Figure size 432x288 with 1 Axes>"
            ]
          },
          "metadata": {
            "tags": [],
            "needs_background": "light"
          }
        },
        {
          "output_type": "display_data",
          "data": {
            "image/png": "[encoded data removed]",
            "text/plain": [
              "<Figure size 432x288 with 1 Axes>"
            ]
          },
          "metadata": {
            "tags": [],
            "needs_background": "light"
          }
        },
        {
          "output_type": "display_data",
          "data": {
            "image/png": "[encoded data removed]",
            "text/plain": [
              "<Figure size 432x288 with 1 Axes>"
            ]
          },
          "metadata": {
            "tags": [],
            "needs_background": "light"
          }
        },
        {
          "output_type": "display_data",
          "data": {
            "image/png": "[encoded data removed]",
            "text/plain": [
              "<Figure size 432x288 with 1 Axes>"
            ]
          },
          "metadata": {
            "tags": [],
            "needs_background": "light"
          }
        },
        {
          "output_type": "display_data",
          "data": {
            "image/png": "[encoded data removed]",
            "text/plain": [
              "<Figure size 432x288 with 1 Axes>"
            ]
          },
          "metadata": {
            "tags": [],
            "needs_background": "light"
          }
        },
        {
          "output_type": "display_data",
          "data": {
            "image/png": "[encoded data removed]",
            "text/plain": [
              "<Figure size 432x288 with 1 Axes>"
            ]
          },
          "metadata": {
            "tags": [],
            "needs_background": "light"
          }
        },
        {
          "output_type": "display_data",
          "data": {
            "image/png": "[encoded data removed]",
            "text/plain": [
              "<Figure size 432x288 with 1 Axes>"
            ]
          },
          "metadata": {
            "tags": [],
            "needs_background": "light"
          }
        }
      ]
    },
    {
      "cell_type": "code",
      "metadata": {
        "id": "TNKcEl84Swqb",
        "colab_type": "code",
        "outputId": "d3a421f0-4d12-4b66-a0ed-7ed2b77e4436",
        "colab": {
          "base_uri": "https://localhost:8080/",
          "height": 147
        }
      },
      "source": [
        "ladder = {\n",
        "          'sqrt y': np.sqrt(cars),\n",
        "          'log y': np.log(cars),\n",
        "          '1/y': cars ** -1,\n",
        "          '1/y^2': cars ** -2,\n",
        "          '1/y^3': cars ** -3\n",
        "}\n",
        "quarantine_days = raw_df['quarantine_day'].values.ravel()\n",
        "fig = plt.figure()\n",
        "ax = fig.add_subplot(2, 1, 1)\n",
        "for k, l in ladder.items():\n",
        "  plt.plot(quarantine_days, l, label=k)\n",
        "  plt.legend()\n",
        "ax.set_yscale('log')\n",
        "plt.show()"
      ],
      "execution_count": 85,
      "outputs": [
        {
          "output_type": "display_data",
          "data": {
            "image/png": "[encoded data removed]",
            "text/plain": [
              "<Figure size 432x288 with 1 Axes>"
            ]
          },
          "metadata": {
            "tags": [],
            "needs_background": "light"
          }
        }
      ]
    },
    {
      "cell_type": "code",
      "metadata": {
        "id": "uymwOM3sVL4x",
        "colab_type": "code",
        "colab": {}
      },
      "source": [
        "proc_df['cars_1/y^3'] = ladder['1/y^3']"
      ],
      "execution_count": 0,
      "outputs": []
    },
    {
      "cell_type": "code",
      "metadata": {
        "id": "CUjwIuK3LvfJ",
        "colab_type": "code",
        "colab": {}
      },
      "source": [
        "eng_features = [\n",
        "'quarantine_day',\n",
        "'panic_ratio',\n",
        "'avg_paper_availability',\n",
        "'news_covid_popularity',\n",
        "'cars_1/y^3',\n",
        "]"
      ],
      "execution_count": 0,
      "outputs": []
    },
    {
      "cell_type": "code",
      "metadata": {
        "id": "2HG3vhd7E8pv",
        "colab_type": "code",
        "colab": {}
      },
      "source": [
        "# Hyperparameter tuning\n",
        "log_reg_params = [\n",
        "    {'normalize': True},\n",
        "    {'normalize': False},\n",
        "]"
      ],
      "execution_count": 0,
      "outputs": []
    },
    {
      "cell_type": "code",
      "metadata": {
        "id": "zfqawWYPgMIw",
        "colab_type": "code",
        "colab": {}
      },
      "source": [
        "from itertools import permutations \n",
        "\n",
        "features = set(proc_df.columns)\n",
        "features.remove('sales')\n",
        "features = list(features)\n",
        "\n",
        "feature_permutations = permutations(features, 2)"
      ],
      "execution_count": 0,
      "outputs": []
    },
    {
      "cell_type": "code",
      "metadata": {
        "id": "ERzIJe3Dgnqs",
        "colab_type": "code",
        "colab": {}
      },
      "source": [
        "X = proc_df"
      ],
      "execution_count": 0,
      "outputs": []
    },
    {
      "cell_type": "code",
      "metadata": {
        "id": "o9Y_1XDWhLr2",
        "colab_type": "code",
        "colab": {}
      },
      "source": [
        "X_train, X_test, y_train, y_test = train_test_split(X, y, test_size = 0.4)"
      ],
      "execution_count": 0,
      "outputs": []
    },
    {
      "cell_type": "code",
      "metadata": {
        "id": "fUfWur_bh8SL",
        "colab_type": "code",
        "colab": {}
      },
      "source": [
        "from IPython.display import clear_output"
      ],
      "execution_count": 0,
      "outputs": []
    },
    {
      "cell_type": "code",
      "metadata": {
        "id": "ZCgI4i01gImM",
        "colab_type": "code",
        "outputId": "62675e08-08d8-48dc-ded6-b6085e5de557",
        "colab": {
          "base_uri": "https://localhost:8080/",
          "height": 34
        }
      },
      "source": [
        "best_test_score = 0\n",
        "best_model = None\n",
        "for p in feature_permutations:\n",
        "  p_features = list(p)\n",
        "  if len(p_features) > 0:\n",
        "    for param in log_reg_params:\n",
        "      sales_reg = LinearRegression(normalize=param['normalize']).fit(X_train[p_features].values, y_train.values)\n",
        "      train_score = sales_reg.score(X_train[p_features].values, y_train.values)\n",
        "      test_score = sales_reg.score(X_test[p_features].values, y_test.values)\n",
        "      clear_output(wait=True)\n",
        "      if test_score > best_test_score:\n",
        "        best_test_score = best_test_score\n",
        "        best_model = sales_reg\n",
        "      print('Train score: %f Test score: %f' % (train_score, test_score))"
      ],
      "execution_count": 111,
      "outputs": [
        {
          "output_type": "stream",
          "text": [
            "Train score: 0.666659 Test score: 0.662714\n"
          ],
          "name": "stdout"
        }
      ]
    },
    {
      "cell_type": "code",
      "metadata": {
        "id": "aa_oLzzE8Q_m",
        "colab_type": "code",
        "colab": {}
      },
      "source": [
        ""
      ],
      "execution_count": 0,
      "outputs": []
    },
    {
      "cell_type": "markdown",
      "metadata": {
        "id": "pCrwUb1lkLGo",
        "colab_type": "text"
      },
      "source": [
        "## Deployment"
      ]
    },
    {
      "cell_type": "code",
      "metadata": {
        "id": "FfRyf6wIkL3j",
        "colab_type": "code",
        "colab": {}
      },
      "source": [
        "import pickle\n",
        "pickle.dump(best_model, open('best_model.picke', 'wb'))\n",
        "# Methods of Feature Engineering\n",
        "pickle.dump(reg_panic, open('panic_model.pickle', 'wb')"
      ],
      "execution_count": 0,
      "outputs": []
    },
    {
      "cell_type": "markdown",
      "metadata": {
        "id": "znvTEmJ6k0_u",
        "colab_type": "text"
      },
      "source": [
        "References\n",
        "- https://www.datacamp.com/community/tutorials/web-scraping-using-python"
      ]
    },
    {
      "cell_type": "code",
      "metadata": {
        "id": "pAObVBg7k2MV",
        "colab_type": "code",
        "colab": {}
      },
      "source": [
        ""
      ],
      "execution_count": 0,
      "outputs": []
    }
  ]
}