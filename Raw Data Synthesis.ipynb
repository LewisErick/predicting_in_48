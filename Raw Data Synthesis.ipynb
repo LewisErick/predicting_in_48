{
 "cells": [
  {
   "cell_type": "code",
   "execution_count": 2,
   "metadata": {},
   "outputs": [
    {
     "name": "stdout",
     "output_type": "stream",
     "text": [
      "Distribution : \n",
      " [0.         0.10204082 0.20408163 0.30612245 0.40816327 0.51020408\n",
      " 0.6122449  0.71428571 0.81632653 0.91836735 1.02040816 1.12244898\n",
      " 1.2244898  1.32653061 1.42857143 1.53061224 1.63265306 1.73469388\n",
      " 1.83673469 1.93877551 2.04081633 2.14285714 2.24489796 2.34693878\n",
      " 2.44897959 2.55102041 2.65306122 2.75510204 2.85714286 2.95918367\n",
      " 3.06122449 3.16326531 3.26530612 3.36734694 3.46938776 3.57142857\n",
      " 3.67346939 3.7755102  3.87755102 3.97959184 4.08163265 4.18367347\n",
      " 4.28571429 4.3877551  4.48979592 4.59183673 4.69387755 4.79591837\n",
      " 4.89795918 5.        ]\n"
     ]
    },
    {
     "data": {
      "image/png": "[encoded data removed]",
      "text/plain": [
       "<Figure size 432x288 with 1 Axes>"
      ]
     },
     "metadata": {
      "needs_background": "light"
     },
     "output_type": "display_data"
    }
   ],
   "source": [
    "from scipy.stats import expon\n",
    "\n",
    "import numpy as np \n",
    "import matplotlib.pyplot as plt \n",
    "\n",
    "rv = expon()\n",
    "\n",
    "distribution = np.linspace(0, np.minimum(rv.dist.b, 5)) \n",
    "print(\"Distribution : \\n\", distribution) \n",
    "  \n",
    "plot = plt.plot(distribution*-1, rv.pdf(distribution))"
   ]
  },
  {
   "cell_type": "code",
   "execution_count": 3,
   "metadata": {},
   "outputs": [],
   "source": [
    "quarantine_days = np.linspace(0, 240, num=240)"
   ]
  },
  {
   "cell_type": "code",
   "execution_count": 4,
   "metadata": {},
   "outputs": [],
   "source": [
    "# Toilet paper sales\n",
    "a = 1000000\n",
    "b = 150\n",
    "k = 0.05\n",
    "x = quarantine_days\n",
    "toilet_paper_sales = a /(1 + b*np.exp(-k*x))"
   ]
  },
  {
   "cell_type": "code",
   "execution_count": 5,
   "metadata": {},
   "outputs": [
    {
     "data": {
      "image/png": "[encoded data removed]",
      "text/plain": [
       "<Figure size 432x288 with 1 Axes>"
      ]
     },
     "metadata": {
      "needs_background": "light"
     },
     "output_type": "display_data"
    }
   ],
   "source": [
    "plot = plt.plot(quarantine_days, toilet_paper_sales, label='logistic growth')\n",
    "plt.show()"
   ]
  },
  {
   "cell_type": "code",
   "execution_count": 7,
   "metadata": {},
   "outputs": [],
   "source": [
    "sales_data = toilet_paper_sales[:120]\n",
    "sales_dict = {\n",
    "    'day': quarantine_days[:120],\n",
    "    'sales': sales_data\n",
    "}"
   ]
  },
  {
   "cell_type": "code",
   "execution_count": null,
   "metadata": {},
   "outputs": [],
   "source": [
    "sales_dict.to_csv('sales_data.csv')"
   ]
  },
  {
   "cell_type": "markdown",
   "metadata": {},
   "source": [
    "a) ratio of avg cars outside at day 1 to day n\n",
    "\n",
    "b) avg toilet paper available in grocery stores\n",
    "\n",
    "c) number of infected\n",
    "\n",
    "d) number of deceased\n",
    "\n",
    "e) hours in news TV programs dedicated to covid"
   ]
  },
  {
   "cell_type": "markdown",
   "metadata": {},
   "source": [
    "References\n",
    "\n",
    "https://people.richland.edu/james/lecture/m116/logs/models.html"
   ]
  },
  {
   "cell_type": "markdown",
   "metadata": {},
   "source": [
    "Raw data:\n",
    "\n",
    "a) number of infected in first 120 days + 120 days projection\n",
    "\n",
    "b) number of deceased in first 120 days + 120 days projection\n",
    "\n",
    "c) DB with news outlets schedule for one channel in first 120 days\n",
    "\n",
    "d) inventory of a sample of grocery stores in first 120 days\n",
    "\n",
    "e) number of cars at a given time that are captured by a camara in Morones Prieto in first 120 days"
   ]
  },
  {
   "cell_type": "code",
   "execution_count": 5,
   "metadata": {},
   "outputs": [],
   "source": [
    "# Number of deceased\n",
    "a = 1000\n",
    "b = 150\n",
    "k = 0.025\n",
    "x = quarantine_days\n",
    "deceased = a / (1 + b*np.exp(-k*x)) - 6"
   ]
  },
  {
   "cell_type": "code",
   "execution_count": 6,
   "metadata": {},
   "outputs": [],
   "source": [
    "# Number of infected\n",
    "a = 1000\n",
    "b = 150\n",
    "k = 0.075\n",
    "x = quarantine_days\n",
    "infected = a / (1 + b*np.exp(-k*x))"
   ]
  },
  {
   "cell_type": "code",
   "execution_count": 7,
   "metadata": {},
   "outputs": [],
   "source": [
    "news_schedule = [\n",
    "    ['kemonito', 'choque', 'trafico'],\n",
    "    ['kemonito', 'choque', 'trafico'],\n",
    "    ['kemonito', 'covid', 'trafico'],\n",
    "    ['kemonito', 'choque', 'trafico'],\n",
    "    ['kemonito', 'choque', 'covid'],\n",
    "    ['kemonito', 'choque', 'trafico'],\n",
    "    ['kemonito', 'choque', 'trafico'],\n",
    "    ['kemonito', 'choque', 'covid'],\n",
    "    ['kemonito', 'choque', 'covid'],\n",
    "    ['kemonito', 'choque', 'covid'],\n",
    "    ['kemonito', 'choque', 'covid'],\n",
    "    ['covid', 'choque', 'covid'],\n",
    "    ['covid', 'choque', 'covid'],\n",
    "    ['kemonito', 'choque', 'trafico'],\n",
    "    ['kemonito', 'choque', 'trafico'],\n",
    "    ['kemonito', 'choque', 'covid'],\n",
    "    ['kemonito', 'choque', 'covid'],\n",
    "    ['covid', 'covid', 'covid'],\n",
    "    ['covid', 'covid', 'kemonito'],\n",
    "    ['covid', 'covid', 'covid'],\n",
    "    ['covid', 'covid', 'kemonito'],\n",
    "    ['covid', 'covid', 'kemonito'],\n",
    "    ['covid', 'covid', 'covid'],\n",
    "    ['covid', 'covid', 'covid'],\n",
    "]"
   ]
  },
  {
   "cell_type": "code",
   "execution_count": 8,
   "metadata": {},
   "outputs": [],
   "source": [
    "real_schedule = []\n",
    "for s in news_schedule:\n",
    "    for _ in range(5):\n",
    "        real_schedule.append(s)"
   ]
  },
  {
   "cell_type": "code",
   "execution_count": 9,
   "metadata": {},
   "outputs": [],
   "source": [
    "news_freq = []\n",
    "for s in real_schedule:\n",
    "    news_freq.append(s.count('covid'))"
   ]
  },
  {
   "cell_type": "code",
   "execution_count": 10,
   "metadata": {},
   "outputs": [
    {
     "data": {
      "text/plain": [
       "120"
      ]
     },
     "execution_count": 10,
     "metadata": {},
     "output_type": "execute_result"
    }
   ],
   "source": [
    "len(real_schedule)"
   ]
  },
  {
   "cell_type": "code",
   "execution_count": 11,
   "metadata": {},
   "outputs": [],
   "source": [
    "quarantine_days = np.linspace(0, 120, num=120)"
   ]
  },
  {
   "cell_type": "code",
   "execution_count": 12,
   "metadata": {},
   "outputs": [],
   "source": [
    "# Toilet paper inventory in grocery store\n",
    "a = 10000\n",
    "b = 1\n",
    "k = -0.025\n",
    "x = quarantine_days\n",
    "grocery_store_1 = a /(1 + b*np.exp(-k*x))\n",
    "\n",
    "a = 1000\n",
    "b = 1\n",
    "k = -0.025\n",
    "x = quarantine_days\n",
    "grocery_store_2 = a /(1 + b*np.exp(-k*x))\n",
    "\n",
    "a = 10000\n",
    "b = 1\n",
    "k = -0.01\n",
    "x = quarantine_days\n",
    "grocery_store_3 = a /(1 + b*np.exp(-k*x))"
   ]
  },
  {
   "cell_type": "code",
   "execution_count": 13,
   "metadata": {},
   "outputs": [
    {
     "data": {
      "text/plain": [
       "5000.0"
      ]
     },
     "execution_count": 13,
     "metadata": {},
     "output_type": "execute_result"
    }
   ],
   "source": [
    "np.max(grocery_store_1)"
   ]
  },
  {
   "cell_type": "code",
   "execution_count": 14,
   "metadata": {},
   "outputs": [
    {
     "data": {
      "text/plain": [
       "<matplotlib.legend.Legend at 0x1a177a5650>"
      ]
     },
     "execution_count": 14,
     "metadata": {},
     "output_type": "execute_result"
    },
    {
     "data": {
      "image/png": "[encoded data removed]",
      "text/plain": [
       "<Figure size 432x288 with 1 Axes>"
      ]
     },
     "metadata": {
      "needs_background": "light"
     },
     "output_type": "display_data"
    }
   ],
   "source": [
    "plt.plot(quarantine_days, grocery_store_1, label='grocery_store_1')\n",
    "plt.plot(quarantine_days, grocery_store_2, label='grocery_store_2')\n",
    "plt.plot(quarantine_days, grocery_store_3, label='grocery_store_3')\n",
    "plt.legend()"
   ]
  },
  {
   "cell_type": "code",
   "execution_count": 15,
   "metadata": {},
   "outputs": [],
   "source": [
    "# Number of cars\n",
    "a = 10000\n",
    "b = 1\n",
    "k = -0.03\n",
    "x = quarantine_days\n",
    "cars = (a*np.random.normal(np.abs(50-x)) /(1 + b*np.exp(-k*x) + np.random.normal(20)))"
   ]
  },
  {
   "cell_type": "code",
   "execution_count": 16,
   "metadata": {},
   "outputs": [
    {
     "data": {
      "text/plain": [
       "[<matplotlib.lines.Line2D at 0x1a17fbe550>]"
      ]
     },
     "execution_count": 16,
     "metadata": {},
     "output_type": "execute_result"
    },
    {
     "data": {
      "image/png": "[encoded data removed]",
      "text/plain": [
       "<Figure size 432x288 with 1 Axes>"
      ]
     },
     "metadata": {
      "needs_background": "light"
     },
     "output_type": "display_data"
    }
   ],
   "source": [
    "plt.plot(quarantine_days, cars)"
   ]
  },
  {
   "cell_type": "code",
   "execution_count": 17,
   "metadata": {},
   "outputs": [],
   "source": [
    "dataset = {\n",
    "    'quarantine_day': quarantine_days,\n",
    "    'infected': infected[:120],\n",
    "    'deceased': deceased[:120],\n",
    "    'news_freq': news_freq,\n",
    "    'grocery_store_1': grocery_store_1,\n",
    "    'grocery_store_2': grocery_store_2,\n",
    "    'grocery_store_3': grocery_store_3,\n",
    "    'avg_cars_per_day': cars\n",
    "}"
   ]
  },
  {
   "cell_type": "code",
   "execution_count": 18,
   "metadata": {},
   "outputs": [],
   "source": [
    "import pandas as pd"
   ]
  },
  {
   "cell_type": "code",
   "execution_count": 20,
   "metadata": {},
   "outputs": [],
   "source": [
    "synth_raw_data = pd.DataFrame(dataset).astype(int)"
   ]
  },
  {
   "cell_type": "code",
   "execution_count": 21,
   "metadata": {},
   "outputs": [],
   "source": [
    "synth_raw_data.to_csv('raw_data.csv')"
   ]
  },
  {
   "cell_type": "code",
   "execution_count": null,
   "metadata": {},
   "outputs": [],
   "source": []
  }
 ],
 "metadata": {
  "kernelspec": {
   "display_name": "Python 3",
   "language": "python",
   "name": "python3"
  },
  "language_info": {
   "codemirror_mode": {
    "name": "ipython",
    "version": 3
   },
   "file_extension": ".py",
   "mimetype": "text/x-python",
   "name": "python",
   "nbconvert_exporter": "python",
   "pygments_lexer": "ipython3",
   "version": "3.7.6"
  }
 },
 "nbformat": 4,
 "nbformat_minor": 4
}
